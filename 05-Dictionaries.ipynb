{
 "cells": [
  {
   "cell_type": "markdown",
   "id": "f8d74e3e-9151-4ddd-8586-0d0ab368acdf",
   "metadata": {},
   "source": [
    "## Dictionaries"
   ]
  },
  {
   "cell_type": "code",
   "execution_count": 1,
   "id": "4d3fad7d-243f-4357-9e92-d6f82665df02",
   "metadata": {},
   "outputs": [],
   "source": [
    "my_dict = {\"key1\": \"value1\", \"key2\": \"value2\"}"
   ]
  },
  {
   "cell_type": "code",
   "execution_count": 2,
   "id": "fb705dd0-b583-4f10-b330-388db3d7263c",
   "metadata": {},
   "outputs": [
    {
     "data": {
      "text/plain": [
       "{'key1': 'value1', 'key2': 'value2'}"
      ]
     },
     "execution_count": 2,
     "metadata": {},
     "output_type": "execute_result"
    }
   ],
   "source": [
    "my_dict"
   ]
  },
  {
   "cell_type": "code",
   "execution_count": 4,
   "id": "5684f0f7-1e24-42bc-9713-1fea5fd39168",
   "metadata": {},
   "outputs": [
    {
     "data": {
      "text/plain": [
       "'value2'"
      ]
     },
     "execution_count": 4,
     "metadata": {},
     "output_type": "execute_result"
    }
   ],
   "source": [
    "my_dict[\"key2\"]"
   ]
  },
  {
   "cell_type": "code",
   "execution_count": 5,
   "id": "1e4b9cb3-dc1c-44fc-961c-9567ad814dd6",
   "metadata": {},
   "outputs": [],
   "source": [
    "my_dict = {\"key1\": 123, \"key2\": [12,23,33 ],\"key3\": [\"item0\", \"item1\", \"item2\"]}"
   ]
  },
  {
   "cell_type": "code",
   "execution_count": 6,
   "id": "2108f2a3-e6f6-4f7f-89df-897b1db28641",
   "metadata": {},
   "outputs": [
    {
     "data": {
      "text/plain": [
       "['item0', 'item1', 'item2']"
      ]
     },
     "execution_count": 6,
     "metadata": {},
     "output_type": "execute_result"
    }
   ],
   "source": [
    "my_dict[\"key3\"]"
   ]
  },
  {
   "cell_type": "code",
   "execution_count": 7,
   "id": "1678174f-7dc8-4999-bf64-d89cc12cea26",
   "metadata": {},
   "outputs": [
    {
     "data": {
      "text/plain": [
       "'item0'"
      ]
     },
     "execution_count": 7,
     "metadata": {},
     "output_type": "execute_result"
    }
   ],
   "source": [
    "my_dict[\"key3\"] [0]"
   ]
  },
  {
   "cell_type": "code",
   "execution_count": 9,
   "id": "4a44bf27-0432-4ca8-80d2-a63202c722c8",
   "metadata": {},
   "outputs": [
    {
     "data": {
      "text/plain": [
       "'ITEM0'"
      ]
     },
     "execution_count": 9,
     "metadata": {},
     "output_type": "execute_result"
    }
   ],
   "source": [
    "my_dict[\"key3\"] [0].upper()"
   ]
  },
  {
   "cell_type": "code",
   "execution_count": 10,
   "id": "5265b919-0626-4a8f-b50c-bc620a7cf47c",
   "metadata": {},
   "outputs": [],
   "source": [
    "my_dict[\"key1\"] = my_dict[\"key1\"] - 123"
   ]
  },
  {
   "cell_type": "code",
   "execution_count": 11,
   "id": "6736e8df-11d7-4e15-9add-a6822adce996",
   "metadata": {},
   "outputs": [
    {
     "data": {
      "text/plain": [
       "0"
      ]
     },
     "execution_count": 11,
     "metadata": {},
     "output_type": "execute_result"
    }
   ],
   "source": [
    "my_dict[\"key1\"]"
   ]
  },
  {
   "cell_type": "code",
   "execution_count": 12,
   "id": "4130ca93-ea04-49a7-b484-043a0f840b87",
   "metadata": {},
   "outputs": [],
   "source": [
    "my_dict[\"key1\"] += 123"
   ]
  },
  {
   "cell_type": "code",
   "execution_count": 13,
   "id": "b26aeb3f-d072-480f-ad24-1cadd69c97d1",
   "metadata": {},
   "outputs": [
    {
     "data": {
      "text/plain": [
       "123"
      ]
     },
     "execution_count": 13,
     "metadata": {},
     "output_type": "execute_result"
    }
   ],
   "source": [
    "\n",
    "my_dict[\"key1\"]"
   ]
  },
  {
   "cell_type": "code",
   "execution_count": 14,
   "id": "88a5c32e-f7f3-43fa-b107-f3a7e5279024",
   "metadata": {},
   "outputs": [],
   "source": [
    "my_dict[\"key1\"] -= 123"
   ]
  },
  {
   "cell_type": "code",
   "execution_count": 15,
   "id": "d9971e36-c74a-47ce-8fd7-450b7cf73688",
   "metadata": {},
   "outputs": [
    {
     "data": {
      "text/plain": [
       "0"
      ]
     },
     "execution_count": 15,
     "metadata": {},
     "output_type": "execute_result"
    }
   ],
   "source": [
    "my_dict[\"key1\"]"
   ]
  },
  {
   "cell_type": "code",
   "execution_count": 16,
   "id": "975f5265-1b2f-4196-ae14-4379e54d3c83",
   "metadata": {},
   "outputs": [],
   "source": [
    "my_dict[\"key1\"] -= 123"
   ]
  },
  {
   "cell_type": "code",
   "execution_count": 17,
   "id": "5dca2553-8c94-4b22-831d-8d0f1c11cad0",
   "metadata": {},
   "outputs": [
    {
     "data": {
      "text/plain": [
       "-123"
      ]
     },
     "execution_count": 17,
     "metadata": {},
     "output_type": "execute_result"
    }
   ],
   "source": [
    "my_dict[\"key1\"]"
   ]
  },
  {
   "cell_type": "code",
   "execution_count": 18,
   "id": "4396f4f3-fede-4e39-b060-7786d5ae3026",
   "metadata": {},
   "outputs": [],
   "source": [
    "d = {\"key1\": {\"nestkey\": {\"subnestkey\": \"value\"}}}"
   ]
  },
  {
   "cell_type": "code",
   "execution_count": 19,
   "id": "08b9fb86-ddee-4900-96ce-1be15a65a8f4",
   "metadata": {},
   "outputs": [
    {
     "data": {
      "text/plain": [
       "{'nestkey': {'subnestkey': 'value'}}"
      ]
     },
     "execution_count": 19,
     "metadata": {},
     "output_type": "execute_result"
    }
   ],
   "source": [
    "d[\"key1\"]"
   ]
  },
  {
   "cell_type": "code",
   "execution_count": 20,
   "id": "d46f80bc-c6f7-49d8-8aa2-65fe48b4cc66",
   "metadata": {},
   "outputs": [
    {
     "data": {
      "text/plain": [
       "{'subnestkey': 'value'}"
      ]
     },
     "execution_count": 20,
     "metadata": {},
     "output_type": "execute_result"
    }
   ],
   "source": [
    "d[\"key1\"][\"nestkey\"]"
   ]
  },
  {
   "cell_type": "code",
   "execution_count": 21,
   "id": "e01be51a-90b1-4652-8e16-e88311476121",
   "metadata": {},
   "outputs": [
    {
     "data": {
      "text/plain": [
       "'value'"
      ]
     },
     "execution_count": 21,
     "metadata": {},
     "output_type": "execute_result"
    }
   ],
   "source": [
    "d[\"key1\"][\"nestkey\"][\"subnestkey\"]"
   ]
  },
  {
   "cell_type": "code",
   "execution_count": null,
   "id": "2f88bb30-6e06-46f8-85ff-8134b5b1d0a0",
   "metadata": {},
   "outputs": [],
   "source": []
  }
 ],
 "metadata": {
  "kernelspec": {
   "display_name": "Python [conda env:anaconda4]",
   "language": "python",
   "name": "conda-env-anaconda4-py"
  },
  "language_info": {
   "codemirror_mode": {
    "name": "ipython",
    "version": 3
   },
   "file_extension": ".py",
   "mimetype": "text/x-python",
   "name": "python",
   "nbconvert_exporter": "python",
   "pygments_lexer": "ipython3",
   "version": "3.12.7"
  }
 },
 "nbformat": 4,
 "nbformat_minor": 5
}
