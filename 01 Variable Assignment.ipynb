{
 "cells": [
  {
   "cell_type": "markdown",
   "id": "bf76f450-d18d-4018-869c-738a136b1062",
   "metadata": {},
   "source": [
    "## dynamic Typing"
   ]
  },
  {
   "cell_type": "code",
   "execution_count": 1,
   "id": "359eacc1-95fd-40e2-b3a5-2aa830ea0886",
   "metadata": {},
   "outputs": [],
   "source": [
    "my_dogs = 2"
   ]
  },
  {
   "cell_type": "code",
   "execution_count": 2,
   "id": "4f734643-d0a6-4127-bdb3-9ad6783c399d",
   "metadata": {},
   "outputs": [
    {
     "data": {
      "text/plain": [
       "2"
      ]
     },
     "execution_count": 2,
     "metadata": {},
     "output_type": "execute_result"
    }
   ],
   "source": [
    "my_dogs"
   ]
  },
  {
   "cell_type": "code",
   "execution_count": 5,
   "id": "55d10fa8-04a7-4beb-9cbe-4a4e116795af",
   "metadata": {},
   "outputs": [],
   "source": [
    "# reassign\n",
    "my_dogs = [\"Sammy\", \"Frankie\"]"
   ]
  },
  {
   "cell_type": "code",
   "execution_count": 6,
   "id": "42562157-4b41-4aa4-a632-914db28f332d",
   "metadata": {},
   "outputs": [
    {
     "data": {
      "text/plain": [
       "['Sammy', 'Frankie']"
      ]
     },
     "execution_count": 6,
     "metadata": {},
     "output_type": "execute_result"
    }
   ],
   "source": [
    "my_dogs"
   ]
  },
  {
   "cell_type": "code",
   "execution_count": 7,
   "id": "fe27215a-7585-42f8-b7e6-1c6a865d0489",
   "metadata": {},
   "outputs": [
    {
     "data": {
      "text/plain": [
       "list"
      ]
     },
     "execution_count": 7,
     "metadata": {},
     "output_type": "execute_result"
    }
   ],
   "source": [
    "type(my_dogs)"
   ]
  },
  {
   "cell_type": "markdown",
   "id": "ab96c20b-6ccb-46c1-adff-2819c0962335",
   "metadata": {},
   "source": [
    "## Assigning Variables\n",
    "variable assignment follows name = object, where a single equal sign = is an assignment operator"
   ]
  },
  {
   "cell_type": "code",
   "execution_count": 8,
   "id": "7bee1584-1326-4bf0-9468-cd8979075cc7",
   "metadata": {},
   "outputs": [],
   "source": [
    "a=5\n"
   ]
  },
  {
   "cell_type": "code",
   "execution_count": 9,
   "id": "f7d57ef0-dcd4-452b-bbb4-2c2ecaf016b6",
   "metadata": {},
   "outputs": [
    {
     "data": {
      "text/plain": [
       "5"
      ]
     },
     "execution_count": 9,
     "metadata": {},
     "output_type": "execute_result"
    }
   ],
   "source": [
    "a"
   ]
  },
  {
   "cell_type": "code",
   "execution_count": 10,
   "id": "21236de7-6382-4a89-a7f8-855dd895f75f",
   "metadata": {},
   "outputs": [],
   "source": [
    "a=a+5"
   ]
  },
  {
   "cell_type": "code",
   "execution_count": 11,
   "id": "b00c800e-61df-4e25-989f-1fc9dd1a3152",
   "metadata": {},
   "outputs": [
    {
     "data": {
      "text/plain": [
       "10"
      ]
     },
     "execution_count": 11,
     "metadata": {},
     "output_type": "execute_result"
    }
   ],
   "source": [
    "a"
   ]
  },
  {
   "cell_type": "code",
   "execution_count": 12,
   "id": "5a2046e1-9475-4d00-a66c-ce13e0501a66",
   "metadata": {},
   "outputs": [
    {
     "data": {
      "text/plain": [
       "int"
      ]
     },
     "execution_count": 12,
     "metadata": {},
     "output_type": "execute_result"
    }
   ],
   "source": [
    "type(a)"
   ]
  },
  {
   "cell_type": "code",
   "execution_count": 13,
   "id": "8766cae3-f5c9-4630-aee7-4bfe8e0cb5f2",
   "metadata": {},
   "outputs": [],
   "source": [
    "a += 10 # a = a+10"
   ]
  },
  {
   "cell_type": "code",
   "execution_count": 14,
   "id": "6efb8737-0200-40f2-a036-5400b2a4aebc",
   "metadata": {},
   "outputs": [],
   "source": [
    "b = 3"
   ]
  },
  {
   "cell_type": "code",
   "execution_count": 15,
   "id": "3312a442-d373-4cb0-9970-07505fbf845b",
   "metadata": {},
   "outputs": [],
   "source": [
    "b +=2"
   ]
  },
  {
   "cell_type": "code",
   "execution_count": 16,
   "id": "de04193c-af3f-4f96-876a-846668327114",
   "metadata": {},
   "outputs": [
    {
     "data": {
      "text/plain": [
       "5"
      ]
     },
     "execution_count": 16,
     "metadata": {},
     "output_type": "execute_result"
    }
   ],
   "source": [
    "b"
   ]
  },
  {
   "cell_type": "code",
   "execution_count": 17,
   "id": "9c6920e9-41fe-47ed-891c-7e98ea59d56b",
   "metadata": {},
   "outputs": [
    {
     "data": {
      "text/plain": [
       "20"
      ]
     },
     "execution_count": 17,
     "metadata": {},
     "output_type": "execute_result"
    }
   ],
   "source": [
    "a"
   ]
  },
  {
   "cell_type": "raw",
   "id": "4e9650b0-0d20-4138-9d7b-9f241f93ce1e",
   "metadata": {},
   "source": [
    "## Determining variable type with type()\n",
    "you can check what type of object is assigned to a variable using Python's built-in type() function. Common data types include:\n",
    "int (for integer)\n",
    "float( decimal numbers)\n",
    "str(for string)\n",
    "list\n",
    "tuple\n",
    "dict ( for dictionary)\n",
    "set\n",
    "bool( for boolean True/ False)\n"
   ]
  },
  {
   "cell_type": "code",
   "execution_count": 18,
   "id": "c51a648f-3d05-498c-a1a2-9e2bfae35700",
   "metadata": {},
   "outputs": [],
   "source": [
    "gpa = 5.0"
   ]
  },
  {
   "cell_type": "code",
   "execution_count": 19,
   "id": "760fc732-bd4d-4789-9ce7-a6e5e80c8b86",
   "metadata": {},
   "outputs": [
    {
     "data": {
      "text/plain": [
       "float"
      ]
     },
     "execution_count": 19,
     "metadata": {},
     "output_type": "execute_result"
    }
   ],
   "source": [
    "type(gpa)"
   ]
  },
  {
   "cell_type": "code",
   "execution_count": 20,
   "id": "b8fd43b6-4d91-4203-9b65-7a3adc33f49f",
   "metadata": {},
   "outputs": [],
   "source": [
    "salary = 300000"
   ]
  },
  {
   "cell_type": "code",
   "execution_count": 21,
   "id": "b71114dc-b8e3-4216-923e-85f76bc0501d",
   "metadata": {},
   "outputs": [
    {
     "data": {
      "text/plain": [
       "int"
      ]
     },
     "execution_count": 21,
     "metadata": {},
     "output_type": "execute_result"
    }
   ],
   "source": [
    "type(salary)"
   ]
  },
  {
   "cell_type": "code",
   "execution_count": null,
   "id": "80414557-b650-4451-8ec0-4b7e18af8b26",
   "metadata": {},
   "outputs": [],
   "source": []
  }
 ],
 "metadata": {
  "kernelspec": {
   "display_name": "Python [conda env:anaconda4]",
   "language": "python",
   "name": "conda-env-anaconda4-py"
  },
  "language_info": {
   "codemirror_mode": {
    "name": "ipython",
    "version": 3
   },
   "file_extension": ".py",
   "mimetype": "text/x-python",
   "name": "python",
   "nbconvert_exporter": "python",
   "pygments_lexer": "ipython3",
   "version": "3.12.7"
  }
 },
 "nbformat": 4,
 "nbformat_minor": 5
}
