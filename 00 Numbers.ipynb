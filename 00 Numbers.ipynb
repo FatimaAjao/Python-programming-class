{
 "cells": [
  {
   "cell_type": "code",
   "execution_count": 1,
   "id": "baf3f75d-0e4f-4a6d-93e9-d2d1c088b664",
   "metadata": {},
   "outputs": [
    {
     "data": {
      "text/plain": [
       "3"
      ]
     },
     "execution_count": 1,
     "metadata": {},
     "output_type": "execute_result"
    }
   ],
   "source": [
    "# Addition\n",
    "2+1"
   ]
  },
  {
   "cell_type": "code",
   "execution_count": 2,
   "id": "bc7549e7-077a-4cc6-a7d3-6e33d712f6a0",
   "metadata": {},
   "outputs": [
    {
     "data": {
      "text/plain": [
       "2"
      ]
     },
     "execution_count": 2,
     "metadata": {},
     "output_type": "execute_result"
    }
   ],
   "source": [
    "# subtraction\n",
    "5-3"
   ]
  },
  {
   "cell_type": "code",
   "execution_count": 3,
   "id": "6b6977fa-b059-4c31-93b5-a6c145e2c191",
   "metadata": {},
   "outputs": [
    {
     "data": {
      "text/plain": [
       "12"
      ]
     },
     "execution_count": 3,
     "metadata": {},
     "output_type": "execute_result"
    }
   ],
   "source": [
    "# Multiplication\n",
    "6*2\n"
   ]
  },
  {
   "cell_type": "code",
   "execution_count": 4,
   "id": "a6d77064-0d89-46bc-8f1d-ef75029f08dc",
   "metadata": {},
   "outputs": [
    {
     "data": {
      "text/plain": [
       "1.5"
      ]
     },
     "execution_count": 4,
     "metadata": {},
     "output_type": "execute_result"
    }
   ],
   "source": [
    "# Division\n",
    "3/2"
   ]
  },
  {
   "cell_type": "code",
   "execution_count": 5,
   "id": "a11e0b0e-6123-4f58-868b-b1f38f3ecad2",
   "metadata": {},
   "outputs": [
    {
     "data": {
      "text/plain": [
       "1"
      ]
     },
     "execution_count": 5,
     "metadata": {},
     "output_type": "execute_result"
    }
   ],
   "source": [
    "# floor Division\n",
    "7//4"
   ]
  },
  {
   "cell_type": "code",
   "execution_count": 6,
   "id": "17303495-008c-40b2-89eb-a2db7c29a845",
   "metadata": {},
   "outputs": [
    {
     "data": {
      "text/plain": [
       "1.75"
      ]
     },
     "execution_count": 6,
     "metadata": {},
     "output_type": "execute_result"
    }
   ],
   "source": [
    "7/4\n"
   ]
  },
  {
   "cell_type": "code",
   "execution_count": 7,
   "id": "aefa60b3-64a0-4d30-b5de-bdf192233f2c",
   "metadata": {},
   "outputs": [
    {
     "data": {
      "text/plain": [
       "1"
      ]
     },
     "execution_count": 7,
     "metadata": {},
     "output_type": "execute_result"
    }
   ],
   "source": [
    "# modulo operator\n",
    "3%2\n",
    "# We can only see what remains after division, it returns the remainder"
   ]
  },
  {
   "cell_type": "code",
   "execution_count": 8,
   "id": "ee3df0c8-3e30-42cf-a325-6d35078cc234",
   "metadata": {},
   "outputs": [
    {
     "data": {
      "text/plain": [
       "5"
      ]
     },
     "execution_count": 8,
     "metadata": {},
     "output_type": "execute_result"
    }
   ],
   "source": [
    "5%6\n"
   ]
  },
  {
   "cell_type": "code",
   "execution_count": 10,
   "id": "027d6dd7-001f-43c2-915c-0f2e01dbca9b",
   "metadata": {},
   "outputs": [
    {
     "data": {
      "text/plain": [
       "4"
      ]
     },
     "execution_count": 10,
     "metadata": {},
     "output_type": "execute_result"
    }
   ],
   "source": [
    "# power (Square)\n",
    "2**2\n"
   ]
  },
  {
   "cell_type": "code",
   "execution_count": 11,
   "id": "d6a0ef6a-b4a7-4c20-a2c2-a8d7cd3e5578",
   "metadata": {},
   "outputs": [
    {
     "data": {
      "text/plain": [
       "2.0"
      ]
     },
     "execution_count": 11,
     "metadata": {},
     "output_type": "execute_result"
    }
   ],
   "source": [
    "# can also Square root this way\n",
    "4**0.5"
   ]
  },
  {
   "cell_type": "code",
   "execution_count": 12,
   "id": "8f1bed25-1412-47fe-9a9c-99b07c20c429",
   "metadata": {},
   "outputs": [
    {
     "data": {
      "text/plain": [
       "156"
      ]
     },
     "execution_count": 12,
     "metadata": {},
     "output_type": "execute_result"
    }
   ],
   "source": [
    "# you can use parenthesis () to specify orders\n",
    "(2+10) * (10+3)"
   ]
  },
  {
   "cell_type": "code",
   "execution_count": 13,
   "id": "0d3fd2ea-3c66-44d5-a1e6-bb5ae4ea9740",
   "metadata": {},
   "outputs": [
    {
     "ename": "SyntaxError",
     "evalue": "unterminated string literal (detected at line 3) (2094396397.py, line 3)",
     "output_type": "error",
     "traceback": [
      "\u001b[1;36m  Cell \u001b[1;32mIn[13], line 3\u001b[1;36m\u001b[0m\n\u001b[1;33m    We can use a single equal sign to assign lables to variables. Let's see a few examples of how we can do this\u001b[0m\n\u001b[1;37m                                                                     ^\u001b[0m\n\u001b[1;31mSyntaxError\u001b[0m\u001b[1;31m:\u001b[0m unterminated string literal (detected at line 3)\n"
     ]
    }
   ],
   "source": [
    "## Variable Assignments\n",
    "Now that we've seen how to use numbers in python as a calculator let's see how we can assign names and create variable.\n",
    "We can use a single equal sign to assign lables to variables. Let's see a few examples of how we can do this"
   ]
  },
  {
   "cell_type": "markdown",
   "id": "94093cfa-bc6c-4f56-98cc-991622da96c5",
   "metadata": {},
   "source": [
    "# Assistant\n",
    "The error occurs because there's an unterminated string literal in your code. In Jupyter notebooks, when you're writing markdown text, it should be in a markdown cell, not in a code cell. The Python interpreter is trying to interpret your text as code, but it's finding unterminated strings.\n",
    "\n",
    "Would you like me to provide the corrected code?"
   ]
  },
  {
   "cell_type": "code",
   "execution_count": 16,
   "id": "df3703b9-0e85-4adf-92b8-bd220e605f39",
   "metadata": {},
   "outputs": [],
   "source": [
    "# create an object called \"a\" and assign it the number 3\n",
    "a=5"
   ]
  },
  {
   "cell_type": "code",
   "execution_count": 17,
   "id": "7aedac67-dbb4-4c1c-b48f-17a694a779ee",
   "metadata": {},
   "outputs": [
    {
     "data": {
      "text/plain": [
       "5"
      ]
     },
     "execution_count": 17,
     "metadata": {},
     "output_type": "execute_result"
    }
   ],
   "source": [
    "a # calling my variable"
   ]
  },
  {
   "cell_type": "code",
   "execution_count": 18,
   "id": "828f8c36-8a62-4dfe-98a5-a13ca6902038",
   "metadata": {},
   "outputs": [
    {
     "data": {
      "text/plain": [
       "10"
      ]
     },
     "execution_count": 18,
     "metadata": {},
     "output_type": "execute_result"
    }
   ],
   "source": [
    "a+a"
   ]
  },
  {
   "cell_type": "markdown",
   "id": "fd1386f6-e652-4c63-b659-53cd48a30158",
   "metadata": {},
   "source": [
    "what happens if we reassign another value to the same variable\n"
   ]
  },
  {
   "cell_type": "code",
   "execution_count": 19,
   "id": "546af425-a618-4c1b-b43c-888003a5ecc9",
   "metadata": {},
   "outputs": [],
   "source": [
    "a=10 # reassignment"
   ]
  },
  {
   "cell_type": "code",
   "execution_count": 20,
   "id": "ce6c07d7-d67a-4f21-8f1a-029581ae8c81",
   "metadata": {},
   "outputs": [
    {
     "data": {
      "text/plain": [
       "10"
      ]
     },
     "execution_count": 20,
     "metadata": {},
     "output_type": "execute_result"
    }
   ],
   "source": [
    "#check\n",
    "a"
   ]
  },
  {
   "cell_type": "code",
   "execution_count": 24,
   "id": "907594b3-9bfd-4502-8c72-3cd003b08db3",
   "metadata": {},
   "outputs": [],
   "source": [
    "# write a simple program to calculate tax\n",
    "my_income = 100\n",
    "\n",
    "tax_rate = 0.1\n",
    "\n",
    "my_tax = my_income * tax_rate"
   ]
  },
  {
   "cell_type": "code",
   "execution_count": 25,
   "id": "e5c59119-b30d-4455-ad2e-7d1c5a011ec2",
   "metadata": {},
   "outputs": [
    {
     "data": {
      "text/plain": [
       "10.0"
      ]
     },
     "execution_count": 25,
     "metadata": {},
     "output_type": "execute_result"
    }
   ],
   "source": [
    "# show my tax\n",
    "my_tax"
   ]
  },
  {
   "cell_type": "code",
   "execution_count": null,
   "id": "ff41f366-3f1c-4bda-904d-fa4a56ab7592",
   "metadata": {},
   "outputs": [],
   "source": []
  },
  {
   "cell_type": "code",
   "execution_count": null,
   "id": "096fb190-1c84-431c-a6e4-eb35f499650f",
   "metadata": {},
   "outputs": [],
   "source": []
  },
  {
   "cell_type": "code",
   "execution_count": null,
   "id": "4c9ac0d8-e36c-4a35-a802-9a901d6f4845",
   "metadata": {},
   "outputs": [],
   "source": []
  },
  {
   "cell_type": "code",
   "execution_count": null,
   "id": "9d3f873f-2d02-4697-84a6-d0fdc3689db5",
   "metadata": {},
   "outputs": [],
   "source": []
  },
  {
   "cell_type": "code",
   "execution_count": null,
   "id": "bb31d06f-d1db-4c0d-ab72-a00ca053605d",
   "metadata": {},
   "outputs": [],
   "source": []
  }
 ],
 "metadata": {
  "kernelspec": {
   "display_name": "Python [conda env:anaconda4]",
   "language": "python",
   "name": "conda-env-anaconda4-py"
  },
  "language_info": {
   "codemirror_mode": {
    "name": "ipython",
    "version": 3
   },
   "file_extension": ".py",
   "mimetype": "text/x-python",
   "name": "python",
   "nbconvert_exporter": "python",
   "pygments_lexer": "ipython3",
   "version": "3.12.7"
  }
 },
 "nbformat": 4,
 "nbformat_minor": 5
}
