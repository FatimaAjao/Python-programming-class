{
 "cells": [
  {
   "cell_type": "code",
   "execution_count": 2,
   "id": "51146308-6b47-4941-adad-30da7d6d4dd6",
   "metadata": {},
   "outputs": [
    {
     "name": "stdout",
     "output_type": "stream",
     "text": [
      "Hello World\n"
     ]
    }
   ],
   "source": [
    "print (\"Hello World\")"
   ]
  },
  {
   "cell_type": "markdown",
   "id": "427cb1e5-1b7c-43b5-bfd0-ee6683a3be99",
   "metadata": {},
   "source": [
    "# Hello word\n",
    "## Hello word\n"
   ]
  },
  {
   "cell_type": "code",
   "execution_count": null,
   "id": "79ab78fc-76dd-44e8-a6bb-ead85797c3d6",
   "metadata": {},
   "outputs": [],
   "source": []
  },
  {
   "cell_type": "code",
   "execution_count": null,
   "id": "f2a9b8cb-e424-4e6e-a848-9899176030ca",
   "metadata": {},
   "outputs": [],
   "source": []
  },
  {
   "cell_type": "code",
   "execution_count": null,
   "id": "082ead77-2e60-49a3-a788-fca24fe9b095",
   "metadata": {},
   "outputs": [],
   "source": []
  }
 ],
 "metadata": {
  "kernelspec": {
   "display_name": "Python [conda env:base] *",
   "language": "python",
   "name": "conda-base-py"
  },
  "language_info": {
   "codemirror_mode": {
    "name": "ipython",
    "version": 3
   },
   "file_extension": ".py",
   "mimetype": "text/x-python",
   "name": "python",
   "nbconvert_exporter": "python",
   "pygments_lexer": "ipython3",
   "version": "3.12.7"
  }
 },
 "nbformat": 4,
 "nbformat_minor": 5
}
